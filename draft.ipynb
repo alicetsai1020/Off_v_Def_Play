{
 "cells": [
  {
   "cell_type": "markdown",
   "metadata": {},
   "source": [
    "## NBA Basketball - Offensive and Defensive Game Play"
   ]
  },
  {
   "cell_type": "code",
   "execution_count": 1,
   "metadata": {},
   "outputs": [],
   "source": [
    "from pymongo import MongoClient\n",
    "import pprint\n",
    "\n",
    "import pandas as pd\n",
    "import matplotlib.pyplot as plt\n",
    "plt.style.use('fivethirtyeight')\n",
    "import seaborn as sns\n",
    "\n",
    "# Requests sends and receives HTTP requests.\n",
    "import requests\n",
    "\n",
    "import json\n",
    "import time\n",
    "import copy"
   ]
  },
  {
   "cell_type": "code",
   "execution_count": 2,
   "metadata": {},
   "outputs": [],
   "source": [
    "pd.set_option('display.max_columns', None)"
   ]
  },
  {
   "cell_type": "code",
   "execution_count": null,
   "metadata": {},
   "outputs": [],
   "source": [
    "from nba_api.stats.static import teams\n",
    "from nba_api.stats.static import players\n",
    "from nba_api.stats.endpoints import leaguegamelog\n",
    "from nba_api.stats.endpoints import leaguedashteamstats\n",
    "from nba_api.stats.endpoints import boxscorefourfactorsv2"
   ]
  },
  {
   "cell_type": "code",
   "execution_count": null,
   "metadata": {},
   "outputs": [],
   "source": [
    "teams_df = pd.DataFrame(teams.get_teams())\n",
    "teams_df.head()"
   ]
  },
  {
   "cell_type": "code",
   "execution_count": null,
   "metadata": {},
   "outputs": [],
   "source": [
    "player_df = pd.DataFrame(players.get_players())\n",
    "player_df.head()"
   ]
  },
  {
   "cell_type": "code",
   "execution_count": null,
   "metadata": {},
   "outputs": [],
   "source": [
    "#game_log_1819 = leaguegamelog.LeagueGameLog(counter = 0, direction = \"DESC\",\n",
    "#                 league_id = \"00\", player_or_team_abbreviation = \"T\", season = \"2018-19\",\n",
    "#                 season_type_all_star = \"Regular Season\", sorter = \"DATE\").get_data_frames()"
   ]
  },
  {
   "cell_type": "code",
   "execution_count": null,
   "metadata": {},
   "outputs": [],
   "source": [
    "#game_log_1819[0].to_csv(r'../data_1/game_log_1819.csv', index=False)"
   ]
  },
  {
   "cell_type": "code",
   "execution_count": 3,
   "metadata": {},
   "outputs": [
    {
     "data": {
      "text/html": [
       "<div>\n",
       "<style scoped>\n",
       "    .dataframe tbody tr th:only-of-type {\n",
       "        vertical-align: middle;\n",
       "    }\n",
       "\n",
       "    .dataframe tbody tr th {\n",
       "        vertical-align: top;\n",
       "    }\n",
       "\n",
       "    .dataframe thead th {\n",
       "        text-align: right;\n",
       "    }\n",
       "</style>\n",
       "<table border=\"1\" class=\"dataframe\">\n",
       "  <thead>\n",
       "    <tr style=\"text-align: right;\">\n",
       "      <th></th>\n",
       "      <th>SEASON_ID</th>\n",
       "      <th>TEAM_ID</th>\n",
       "      <th>TEAM_ABBREVIATION</th>\n",
       "      <th>TEAM_NAME</th>\n",
       "      <th>GAME_ID</th>\n",
       "      <th>GAME_DATE</th>\n",
       "      <th>MATCHUP</th>\n",
       "      <th>WL</th>\n",
       "      <th>MIN</th>\n",
       "      <th>FGM</th>\n",
       "      <th>FGA</th>\n",
       "      <th>FG_PCT</th>\n",
       "      <th>FG3M</th>\n",
       "      <th>FG3A</th>\n",
       "      <th>FG3_PCT</th>\n",
       "      <th>FTM</th>\n",
       "      <th>FTA</th>\n",
       "      <th>FT_PCT</th>\n",
       "      <th>OREB</th>\n",
       "      <th>DREB</th>\n",
       "      <th>REB</th>\n",
       "      <th>AST</th>\n",
       "      <th>STL</th>\n",
       "      <th>BLK</th>\n",
       "      <th>TOV</th>\n",
       "      <th>PF</th>\n",
       "      <th>PTS</th>\n",
       "      <th>PLUS_MINUS</th>\n",
       "      <th>VIDEO_AVAILABLE</th>\n",
       "    </tr>\n",
       "  </thead>\n",
       "  <tbody>\n",
       "    <tr>\n",
       "      <th>0</th>\n",
       "      <td>22018</td>\n",
       "      <td>1610612763</td>\n",
       "      <td>MEM</td>\n",
       "      <td>Memphis Grizzlies</td>\n",
       "      <td>21801225</td>\n",
       "      <td>2019-04-10</td>\n",
       "      <td>MEM vs. GSW</td>\n",
       "      <td>W</td>\n",
       "      <td>240</td>\n",
       "      <td>48</td>\n",
       "      <td>98</td>\n",
       "      <td>0.490</td>\n",
       "      <td>21</td>\n",
       "      <td>46</td>\n",
       "      <td>0.457</td>\n",
       "      <td>15</td>\n",
       "      <td>18</td>\n",
       "      <td>0.833</td>\n",
       "      <td>15</td>\n",
       "      <td>34</td>\n",
       "      <td>49</td>\n",
       "      <td>25</td>\n",
       "      <td>9</td>\n",
       "      <td>0</td>\n",
       "      <td>11</td>\n",
       "      <td>18</td>\n",
       "      <td>132</td>\n",
       "      <td>15</td>\n",
       "      <td>1</td>\n",
       "    </tr>\n",
       "    <tr>\n",
       "      <th>1</th>\n",
       "      <td>22018</td>\n",
       "      <td>1610612744</td>\n",
       "      <td>GSW</td>\n",
       "      <td>Golden State Warriors</td>\n",
       "      <td>21801225</td>\n",
       "      <td>2019-04-10</td>\n",
       "      <td>GSW @ MEM</td>\n",
       "      <td>L</td>\n",
       "      <td>240</td>\n",
       "      <td>46</td>\n",
       "      <td>92</td>\n",
       "      <td>0.500</td>\n",
       "      <td>13</td>\n",
       "      <td>30</td>\n",
       "      <td>0.433</td>\n",
       "      <td>12</td>\n",
       "      <td>14</td>\n",
       "      <td>0.857</td>\n",
       "      <td>9</td>\n",
       "      <td>30</td>\n",
       "      <td>39</td>\n",
       "      <td>32</td>\n",
       "      <td>3</td>\n",
       "      <td>5</td>\n",
       "      <td>14</td>\n",
       "      <td>17</td>\n",
       "      <td>117</td>\n",
       "      <td>-15</td>\n",
       "      <td>1</td>\n",
       "    </tr>\n",
       "    <tr>\n",
       "      <th>2</th>\n",
       "      <td>22018</td>\n",
       "      <td>1610612753</td>\n",
       "      <td>ORL</td>\n",
       "      <td>Orlando Magic</td>\n",
       "      <td>21801222</td>\n",
       "      <td>2019-04-10</td>\n",
       "      <td>ORL @ CHA</td>\n",
       "      <td>W</td>\n",
       "      <td>240</td>\n",
       "      <td>48</td>\n",
       "      <td>88</td>\n",
       "      <td>0.545</td>\n",
       "      <td>11</td>\n",
       "      <td>30</td>\n",
       "      <td>0.367</td>\n",
       "      <td>15</td>\n",
       "      <td>20</td>\n",
       "      <td>0.750</td>\n",
       "      <td>9</td>\n",
       "      <td>30</td>\n",
       "      <td>39</td>\n",
       "      <td>24</td>\n",
       "      <td>5</td>\n",
       "      <td>2</td>\n",
       "      <td>6</td>\n",
       "      <td>19</td>\n",
       "      <td>122</td>\n",
       "      <td>8</td>\n",
       "      <td>1</td>\n",
       "    </tr>\n",
       "    <tr>\n",
       "      <th>3</th>\n",
       "      <td>22018</td>\n",
       "      <td>1610612766</td>\n",
       "      <td>CHA</td>\n",
       "      <td>Charlotte Hornets</td>\n",
       "      <td>21801222</td>\n",
       "      <td>2019-04-10</td>\n",
       "      <td>CHA vs. ORL</td>\n",
       "      <td>L</td>\n",
       "      <td>240</td>\n",
       "      <td>41</td>\n",
       "      <td>78</td>\n",
       "      <td>0.526</td>\n",
       "      <td>8</td>\n",
       "      <td>29</td>\n",
       "      <td>0.276</td>\n",
       "      <td>24</td>\n",
       "      <td>27</td>\n",
       "      <td>0.889</td>\n",
       "      <td>4</td>\n",
       "      <td>28</td>\n",
       "      <td>32</td>\n",
       "      <td>21</td>\n",
       "      <td>3</td>\n",
       "      <td>4</td>\n",
       "      <td>8</td>\n",
       "      <td>14</td>\n",
       "      <td>114</td>\n",
       "      <td>-8</td>\n",
       "      <td>1</td>\n",
       "    </tr>\n",
       "    <tr>\n",
       "      <th>4</th>\n",
       "      <td>22018</td>\n",
       "      <td>1610612750</td>\n",
       "      <td>MIN</td>\n",
       "      <td>Minnesota Timberwolves</td>\n",
       "      <td>21801228</td>\n",
       "      <td>2019-04-10</td>\n",
       "      <td>MIN @ DEN</td>\n",
       "      <td>L</td>\n",
       "      <td>240</td>\n",
       "      <td>39</td>\n",
       "      <td>91</td>\n",
       "      <td>0.429</td>\n",
       "      <td>13</td>\n",
       "      <td>32</td>\n",
       "      <td>0.406</td>\n",
       "      <td>4</td>\n",
       "      <td>6</td>\n",
       "      <td>0.667</td>\n",
       "      <td>7</td>\n",
       "      <td>34</td>\n",
       "      <td>41</td>\n",
       "      <td>24</td>\n",
       "      <td>6</td>\n",
       "      <td>0</td>\n",
       "      <td>10</td>\n",
       "      <td>22</td>\n",
       "      <td>95</td>\n",
       "      <td>-4</td>\n",
       "      <td>1</td>\n",
       "    </tr>\n",
       "  </tbody>\n",
       "</table>\n",
       "</div>"
      ],
      "text/plain": [
       "   SEASON_ID     TEAM_ID TEAM_ABBREVIATION               TEAM_NAME   GAME_ID  \\\n",
       "0      22018  1610612763               MEM       Memphis Grizzlies  21801225   \n",
       "1      22018  1610612744               GSW   Golden State Warriors  21801225   \n",
       "2      22018  1610612753               ORL           Orlando Magic  21801222   \n",
       "3      22018  1610612766               CHA       Charlotte Hornets  21801222   \n",
       "4      22018  1610612750               MIN  Minnesota Timberwolves  21801228   \n",
       "\n",
       "    GAME_DATE      MATCHUP WL  MIN  FGM  FGA  FG_PCT  FG3M  FG3A  FG3_PCT  \\\n",
       "0  2019-04-10  MEM vs. GSW  W  240   48   98   0.490    21    46    0.457   \n",
       "1  2019-04-10    GSW @ MEM  L  240   46   92   0.500    13    30    0.433   \n",
       "2  2019-04-10    ORL @ CHA  W  240   48   88   0.545    11    30    0.367   \n",
       "3  2019-04-10  CHA vs. ORL  L  240   41   78   0.526     8    29    0.276   \n",
       "4  2019-04-10    MIN @ DEN  L  240   39   91   0.429    13    32    0.406   \n",
       "\n",
       "   FTM  FTA  FT_PCT  OREB  DREB  REB  AST  STL  BLK  TOV  PF  PTS  PLUS_MINUS  \\\n",
       "0   15   18   0.833    15    34   49   25    9    0   11  18  132          15   \n",
       "1   12   14   0.857     9    30   39   32    3    5   14  17  117         -15   \n",
       "2   15   20   0.750     9    30   39   24    5    2    6  19  122           8   \n",
       "3   24   27   0.889     4    28   32   21    3    4    8  14  114          -8   \n",
       "4    4    6   0.667     7    34   41   24    6    0   10  22   95          -4   \n",
       "\n",
       "   VIDEO_AVAILABLE  \n",
       "0                1  \n",
       "1                1  \n",
       "2                1  \n",
       "3                1  \n",
       "4                1  "
      ]
     },
     "execution_count": 3,
     "metadata": {},
     "output_type": "execute_result"
    }
   ],
   "source": [
    "game_log_1819 = pd.read_csv('../data_1/game_log_1819.csv')\n",
    "game_log_1819.head()"
   ]
  },
  {
   "cell_type": "code",
   "execution_count": null,
   "metadata": {},
   "outputs": [],
   "source": [
    "#leaguedashteamstats = leaguedashteamstats.LeagueDashTeamStats(season = \"2018-19\", season_type_all_star='Regular Season').get_data_frames()"
   ]
  },
  {
   "cell_type": "code",
   "execution_count": null,
   "metadata": {},
   "outputs": [],
   "source": [
    "#leaguedashteamstats[0].to_csv(r'../data_1/leaguedashteamstats.csv', index=False)"
   ]
  },
  {
   "cell_type": "code",
   "execution_count": 4,
   "metadata": {
    "collapsed": true
   },
   "outputs": [
    {
     "data": {
      "text/html": [
       "<div>\n",
       "<style scoped>\n",
       "    .dataframe tbody tr th:only-of-type {\n",
       "        vertical-align: middle;\n",
       "    }\n",
       "\n",
       "    .dataframe tbody tr th {\n",
       "        vertical-align: top;\n",
       "    }\n",
       "\n",
       "    .dataframe thead th {\n",
       "        text-align: right;\n",
       "    }\n",
       "</style>\n",
       "<table border=\"1\" class=\"dataframe\">\n",
       "  <thead>\n",
       "    <tr style=\"text-align: right;\">\n",
       "      <th></th>\n",
       "      <th>TEAM_ID</th>\n",
       "      <th>TEAM_NAME</th>\n",
       "      <th>GP</th>\n",
       "      <th>W</th>\n",
       "      <th>L</th>\n",
       "      <th>W_PCT</th>\n",
       "      <th>MIN</th>\n",
       "      <th>FGM</th>\n",
       "      <th>FGA</th>\n",
       "      <th>FG_PCT</th>\n",
       "      <th>FG3M</th>\n",
       "      <th>FG3A</th>\n",
       "      <th>FG3_PCT</th>\n",
       "      <th>FTM</th>\n",
       "      <th>FTA</th>\n",
       "      <th>FT_PCT</th>\n",
       "      <th>OREB</th>\n",
       "      <th>DREB</th>\n",
       "      <th>REB</th>\n",
       "      <th>AST</th>\n",
       "      <th>TOV</th>\n",
       "      <th>STL</th>\n",
       "      <th>BLK</th>\n",
       "      <th>BLKA</th>\n",
       "      <th>PF</th>\n",
       "      <th>PFD</th>\n",
       "      <th>PTS</th>\n",
       "      <th>PLUS_MINUS</th>\n",
       "      <th>GP_RANK</th>\n",
       "      <th>W_RANK</th>\n",
       "      <th>L_RANK</th>\n",
       "      <th>W_PCT_RANK</th>\n",
       "      <th>MIN_RANK</th>\n",
       "      <th>FGM_RANK</th>\n",
       "      <th>FGA_RANK</th>\n",
       "      <th>FG_PCT_RANK</th>\n",
       "      <th>FG3M_RANK</th>\n",
       "      <th>FG3A_RANK</th>\n",
       "      <th>FG3_PCT_RANK</th>\n",
       "      <th>FTM_RANK</th>\n",
       "      <th>FTA_RANK</th>\n",
       "      <th>FT_PCT_RANK</th>\n",
       "      <th>OREB_RANK</th>\n",
       "      <th>DREB_RANK</th>\n",
       "      <th>REB_RANK</th>\n",
       "      <th>AST_RANK</th>\n",
       "      <th>TOV_RANK</th>\n",
       "      <th>STL_RANK</th>\n",
       "      <th>BLK_RANK</th>\n",
       "      <th>BLKA_RANK</th>\n",
       "      <th>PF_RANK</th>\n",
       "      <th>PFD_RANK</th>\n",
       "      <th>PTS_RANK</th>\n",
       "      <th>PLUS_MINUS_RANK</th>\n",
       "      <th>CFID</th>\n",
       "      <th>CFPARAMS</th>\n",
       "    </tr>\n",
       "  </thead>\n",
       "  <tbody>\n",
       "    <tr>\n",
       "      <th>0</th>\n",
       "      <td>1610612737</td>\n",
       "      <td>Atlanta Hawks</td>\n",
       "      <td>82</td>\n",
       "      <td>29</td>\n",
       "      <td>53</td>\n",
       "      <td>0.354</td>\n",
       "      <td>3971.0</td>\n",
       "      <td>3392</td>\n",
       "      <td>7524</td>\n",
       "      <td>0.451</td>\n",
       "      <td>1067</td>\n",
       "      <td>3034</td>\n",
       "      <td>0.352</td>\n",
       "      <td>1443</td>\n",
       "      <td>1918</td>\n",
       "      <td>0.752</td>\n",
       "      <td>955</td>\n",
       "      <td>2825</td>\n",
       "      <td>3780</td>\n",
       "      <td>2118</td>\n",
       "      <td>1397.0</td>\n",
       "      <td>675</td>\n",
       "      <td>419</td>\n",
       "      <td>448</td>\n",
       "      <td>1932</td>\n",
       "      <td>1817</td>\n",
       "      <td>9294</td>\n",
       "      <td>-494.0</td>\n",
       "      <td>1</td>\n",
       "      <td>26</td>\n",
       "      <td>26</td>\n",
       "      <td>26</td>\n",
       "      <td>7</td>\n",
       "      <td>15</td>\n",
       "      <td>4</td>\n",
       "      <td>21</td>\n",
       "      <td>4</td>\n",
       "      <td>3</td>\n",
       "      <td>16</td>\n",
       "      <td>18</td>\n",
       "      <td>12</td>\n",
       "      <td>21</td>\n",
       "      <td>4</td>\n",
       "      <td>18</td>\n",
       "      <td>12</td>\n",
       "      <td>10</td>\n",
       "      <td>30</td>\n",
       "      <td>11</td>\n",
       "      <td>14</td>\n",
       "      <td>24</td>\n",
       "      <td>29</td>\n",
       "      <td>5</td>\n",
       "      <td>12</td>\n",
       "      <td>26</td>\n",
       "      <td>10</td>\n",
       "      <td>Atlanta Hawks</td>\n",
       "    </tr>\n",
       "    <tr>\n",
       "      <th>1</th>\n",
       "      <td>1610612738</td>\n",
       "      <td>Boston Celtics</td>\n",
       "      <td>82</td>\n",
       "      <td>49</td>\n",
       "      <td>33</td>\n",
       "      <td>0.598</td>\n",
       "      <td>3956.0</td>\n",
       "      <td>3451</td>\n",
       "      <td>7423</td>\n",
       "      <td>0.465</td>\n",
       "      <td>1032</td>\n",
       "      <td>2829</td>\n",
       "      <td>0.365</td>\n",
       "      <td>1282</td>\n",
       "      <td>1598</td>\n",
       "      <td>0.802</td>\n",
       "      <td>804</td>\n",
       "      <td>2849</td>\n",
       "      <td>3653</td>\n",
       "      <td>2155</td>\n",
       "      <td>1052.0</td>\n",
       "      <td>706</td>\n",
       "      <td>435</td>\n",
       "      <td>317</td>\n",
       "      <td>1670</td>\n",
       "      <td>1602</td>\n",
       "      <td>9216</td>\n",
       "      <td>364.0</td>\n",
       "      <td>1</td>\n",
       "      <td>9</td>\n",
       "      <td>9</td>\n",
       "      <td>9</td>\n",
       "      <td>18</td>\n",
       "      <td>11</td>\n",
       "      <td>9</td>\n",
       "      <td>14</td>\n",
       "      <td>6</td>\n",
       "      <td>7</td>\n",
       "      <td>7</td>\n",
       "      <td>28</td>\n",
       "      <td>29</td>\n",
       "      <td>4</td>\n",
       "      <td>20</td>\n",
       "      <td>16</td>\n",
       "      <td>22</td>\n",
       "      <td>5</td>\n",
       "      <td>3</td>\n",
       "      <td>4</td>\n",
       "      <td>10</td>\n",
       "      <td>2</td>\n",
       "      <td>12</td>\n",
       "      <td>26</td>\n",
       "      <td>14</td>\n",
       "      <td>6</td>\n",
       "      <td>10</td>\n",
       "      <td>Boston Celtics</td>\n",
       "    </tr>\n",
       "    <tr>\n",
       "      <th>2</th>\n",
       "      <td>1610612751</td>\n",
       "      <td>Brooklyn Nets</td>\n",
       "      <td>82</td>\n",
       "      <td>42</td>\n",
       "      <td>40</td>\n",
       "      <td>0.512</td>\n",
       "      <td>3996.0</td>\n",
       "      <td>3301</td>\n",
       "      <td>7358</td>\n",
       "      <td>0.449</td>\n",
       "      <td>1047</td>\n",
       "      <td>2965</td>\n",
       "      <td>0.353</td>\n",
       "      <td>1555</td>\n",
       "      <td>2088</td>\n",
       "      <td>0.745</td>\n",
       "      <td>900</td>\n",
       "      <td>2919</td>\n",
       "      <td>3819</td>\n",
       "      <td>1954</td>\n",
       "      <td>1236.0</td>\n",
       "      <td>539</td>\n",
       "      <td>339</td>\n",
       "      <td>432</td>\n",
       "      <td>1763</td>\n",
       "      <td>1807</td>\n",
       "      <td>9204</td>\n",
       "      <td>-6.0</td>\n",
       "      <td>1</td>\n",
       "      <td>14</td>\n",
       "      <td>14</td>\n",
       "      <td>14</td>\n",
       "      <td>1</td>\n",
       "      <td>20</td>\n",
       "      <td>14</td>\n",
       "      <td>25</td>\n",
       "      <td>5</td>\n",
       "      <td>5</td>\n",
       "      <td>14</td>\n",
       "      <td>6</td>\n",
       "      <td>4</td>\n",
       "      <td>24</td>\n",
       "      <td>10</td>\n",
       "      <td>10</td>\n",
       "      <td>7</td>\n",
       "      <td>21</td>\n",
       "      <td>26</td>\n",
       "      <td>27</td>\n",
       "      <td>28</td>\n",
       "      <td>22</td>\n",
       "      <td>23</td>\n",
       "      <td>7</td>\n",
       "      <td>15</td>\n",
       "      <td>15</td>\n",
       "      <td>10</td>\n",
       "      <td>Brooklyn Nets</td>\n",
       "    </tr>\n",
       "    <tr>\n",
       "      <th>3</th>\n",
       "      <td>1610612766</td>\n",
       "      <td>Charlotte Hornets</td>\n",
       "      <td>82</td>\n",
       "      <td>39</td>\n",
       "      <td>43</td>\n",
       "      <td>0.476</td>\n",
       "      <td>3966.0</td>\n",
       "      <td>3297</td>\n",
       "      <td>7362</td>\n",
       "      <td>0.448</td>\n",
       "      <td>977</td>\n",
       "      <td>2783</td>\n",
       "      <td>0.351</td>\n",
       "      <td>1510</td>\n",
       "      <td>1895</td>\n",
       "      <td>0.797</td>\n",
       "      <td>814</td>\n",
       "      <td>2778</td>\n",
       "      <td>3592</td>\n",
       "      <td>1905</td>\n",
       "      <td>1001.0</td>\n",
       "      <td>591</td>\n",
       "      <td>405</td>\n",
       "      <td>492</td>\n",
       "      <td>1550</td>\n",
       "      <td>1686</td>\n",
       "      <td>9081</td>\n",
       "      <td>-90.0</td>\n",
       "      <td>1</td>\n",
       "      <td>17</td>\n",
       "      <td>17</td>\n",
       "      <td>17</td>\n",
       "      <td>11</td>\n",
       "      <td>21</td>\n",
       "      <td>12</td>\n",
       "      <td>26</td>\n",
       "      <td>11</td>\n",
       "      <td>10</td>\n",
       "      <td>18</td>\n",
       "      <td>9</td>\n",
       "      <td>16</td>\n",
       "      <td>6</td>\n",
       "      <td>19</td>\n",
       "      <td>22</td>\n",
       "      <td>23</td>\n",
       "      <td>24</td>\n",
       "      <td>2</td>\n",
       "      <td>21</td>\n",
       "      <td>18</td>\n",
       "      <td>29</td>\n",
       "      <td>3</td>\n",
       "      <td>18</td>\n",
       "      <td>19</td>\n",
       "      <td>18</td>\n",
       "      <td>10</td>\n",
       "      <td>Charlotte Hornets</td>\n",
       "    </tr>\n",
       "    <tr>\n",
       "      <th>4</th>\n",
       "      <td>1610612741</td>\n",
       "      <td>Chicago Bulls</td>\n",
       "      <td>82</td>\n",
       "      <td>22</td>\n",
       "      <td>60</td>\n",
       "      <td>0.268</td>\n",
       "      <td>3981.0</td>\n",
       "      <td>3266</td>\n",
       "      <td>7205</td>\n",
       "      <td>0.453</td>\n",
       "      <td>745</td>\n",
       "      <td>2123</td>\n",
       "      <td>0.351</td>\n",
       "      <td>1328</td>\n",
       "      <td>1695</td>\n",
       "      <td>0.783</td>\n",
       "      <td>718</td>\n",
       "      <td>2799</td>\n",
       "      <td>3517</td>\n",
       "      <td>1796</td>\n",
       "      <td>1159.0</td>\n",
       "      <td>603</td>\n",
       "      <td>351</td>\n",
       "      <td>473</td>\n",
       "      <td>1663</td>\n",
       "      <td>1534</td>\n",
       "      <td>8605</td>\n",
       "      <td>-690.0</td>\n",
       "      <td>1</td>\n",
       "      <td>27</td>\n",
       "      <td>27</td>\n",
       "      <td>27</td>\n",
       "      <td>3</td>\n",
       "      <td>23</td>\n",
       "      <td>22</td>\n",
       "      <td>20</td>\n",
       "      <td>30</td>\n",
       "      <td>27</td>\n",
       "      <td>19</td>\n",
       "      <td>25</td>\n",
       "      <td>26</td>\n",
       "      <td>11</td>\n",
       "      <td>30</td>\n",
       "      <td>21</td>\n",
       "      <td>25</td>\n",
       "      <td>27</td>\n",
       "      <td>19</td>\n",
       "      <td>20</td>\n",
       "      <td>26</td>\n",
       "      <td>28</td>\n",
       "      <td>9</td>\n",
       "      <td>30</td>\n",
       "      <td>27</td>\n",
       "      <td>27</td>\n",
       "      <td>10</td>\n",
       "      <td>Chicago Bulls</td>\n",
       "    </tr>\n",
       "  </tbody>\n",
       "</table>\n",
       "</div>"
      ],
      "text/plain": [
       "      TEAM_ID          TEAM_NAME  GP   W   L  W_PCT     MIN   FGM   FGA  \\\n",
       "0  1610612737      Atlanta Hawks  82  29  53  0.354  3971.0  3392  7524   \n",
       "1  1610612738     Boston Celtics  82  49  33  0.598  3956.0  3451  7423   \n",
       "2  1610612751      Brooklyn Nets  82  42  40  0.512  3996.0  3301  7358   \n",
       "3  1610612766  Charlotte Hornets  82  39  43  0.476  3966.0  3297  7362   \n",
       "4  1610612741      Chicago Bulls  82  22  60  0.268  3981.0  3266  7205   \n",
       "\n",
       "   FG_PCT  FG3M  FG3A  FG3_PCT   FTM   FTA  FT_PCT  OREB  DREB   REB   AST  \\\n",
       "0   0.451  1067  3034    0.352  1443  1918   0.752   955  2825  3780  2118   \n",
       "1   0.465  1032  2829    0.365  1282  1598   0.802   804  2849  3653  2155   \n",
       "2   0.449  1047  2965    0.353  1555  2088   0.745   900  2919  3819  1954   \n",
       "3   0.448   977  2783    0.351  1510  1895   0.797   814  2778  3592  1905   \n",
       "4   0.453   745  2123    0.351  1328  1695   0.783   718  2799  3517  1796   \n",
       "\n",
       "      TOV  STL  BLK  BLKA    PF   PFD   PTS  PLUS_MINUS  GP_RANK  W_RANK  \\\n",
       "0  1397.0  675  419   448  1932  1817  9294      -494.0        1      26   \n",
       "1  1052.0  706  435   317  1670  1602  9216       364.0        1       9   \n",
       "2  1236.0  539  339   432  1763  1807  9204        -6.0        1      14   \n",
       "3  1001.0  591  405   492  1550  1686  9081       -90.0        1      17   \n",
       "4  1159.0  603  351   473  1663  1534  8605      -690.0        1      27   \n",
       "\n",
       "   L_RANK  W_PCT_RANK  MIN_RANK  FGM_RANK  FGA_RANK  FG_PCT_RANK  FG3M_RANK  \\\n",
       "0      26          26         7        15         4           21          4   \n",
       "1       9           9        18        11         9           14          6   \n",
       "2      14          14         1        20        14           25          5   \n",
       "3      17          17        11        21        12           26         11   \n",
       "4      27          27         3        23        22           20         30   \n",
       "\n",
       "   FG3A_RANK  FG3_PCT_RANK  FTM_RANK  FTA_RANK  FT_PCT_RANK  OREB_RANK  \\\n",
       "0          3            16        18        12           21          4   \n",
       "1          7             7        28        29            4         20   \n",
       "2          5            14         6         4           24         10   \n",
       "3         10            18         9        16            6         19   \n",
       "4         27            19        25        26           11         30   \n",
       "\n",
       "   DREB_RANK  REB_RANK  AST_RANK  TOV_RANK  STL_RANK  BLK_RANK  BLKA_RANK  \\\n",
       "0         18        12        10        30        11        14         24   \n",
       "1         16        22         5         3         4        10          2   \n",
       "2         10         7        21        26        27        28         22   \n",
       "3         22        23        24         2        21        18         29   \n",
       "4         21        25        27        19        20        26         28   \n",
       "\n",
       "   PF_RANK  PFD_RANK  PTS_RANK  PLUS_MINUS_RANK  CFID           CFPARAMS  \n",
       "0       29         5        12               26    10      Atlanta Hawks  \n",
       "1       12        26        14                6    10     Boston Celtics  \n",
       "2       23         7        15               15    10      Brooklyn Nets  \n",
       "3        3        18        19               18    10  Charlotte Hornets  \n",
       "4        9        30        27               27    10      Chicago Bulls  "
      ]
     },
     "execution_count": 4,
     "metadata": {},
     "output_type": "execute_result"
    }
   ],
   "source": [
    "leaguedashteamstats = pd.read_csv('../data_1/leaguedashteamstats.csv')\n",
    "leaguedashteamstats.head()"
   ]
  },
  {
   "cell_type": "code",
   "execution_count": null,
   "metadata": {},
   "outputs": [],
   "source": [
    "#boxscorefourfactor = boxscorefourfactorsv2.BoxScoreFourFactorsV2(game_id='0021800997').get_data_frames()"
   ]
  },
  {
   "cell_type": "code",
   "execution_count": null,
   "metadata": {},
   "outputs": [],
   "source": [
    "#boxscorefourfactor[0].to_csv(r'../data_1/boxscorefourfactor.csv', index=False)"
   ]
  },
  {
   "cell_type": "code",
   "execution_count": 5,
   "metadata": {
    "collapsed": true
   },
   "outputs": [
    {
     "data": {
      "text/html": [
       "<div>\n",
       "<style scoped>\n",
       "    .dataframe tbody tr th:only-of-type {\n",
       "        vertical-align: middle;\n",
       "    }\n",
       "\n",
       "    .dataframe tbody tr th {\n",
       "        vertical-align: top;\n",
       "    }\n",
       "\n",
       "    .dataframe thead th {\n",
       "        text-align: right;\n",
       "    }\n",
       "</style>\n",
       "<table border=\"1\" class=\"dataframe\">\n",
       "  <thead>\n",
       "    <tr style=\"text-align: right;\">\n",
       "      <th></th>\n",
       "      <th>GAME_ID</th>\n",
       "      <th>TEAM_ID</th>\n",
       "      <th>TEAM_ABBREVIATION</th>\n",
       "      <th>TEAM_CITY</th>\n",
       "      <th>PLAYER_ID</th>\n",
       "      <th>PLAYER_NAME</th>\n",
       "      <th>START_POSITION</th>\n",
       "      <th>COMMENT</th>\n",
       "      <th>MIN</th>\n",
       "      <th>EFG_PCT</th>\n",
       "      <th>FTA_RATE</th>\n",
       "      <th>TM_TOV_PCT</th>\n",
       "      <th>OREB_PCT</th>\n",
       "      <th>OPP_EFG_PCT</th>\n",
       "      <th>OPP_FTA_RATE</th>\n",
       "      <th>OPP_TOV_PCT</th>\n",
       "      <th>OPP_OREB_PCT</th>\n",
       "    </tr>\n",
       "  </thead>\n",
       "  <tbody>\n",
       "    <tr>\n",
       "      <th>0</th>\n",
       "      <td>21800997</td>\n",
       "      <td>1610612745</td>\n",
       "      <td>HOU</td>\n",
       "      <td>Houston</td>\n",
       "      <td>201569</td>\n",
       "      <td>Eric Gordon</td>\n",
       "      <td>F</td>\n",
       "      <td>NaN</td>\n",
       "      <td>31:48</td>\n",
       "      <td>0.432</td>\n",
       "      <td>0.220</td>\n",
       "      <td>0.099</td>\n",
       "      <td>0.286</td>\n",
       "      <td>0.459</td>\n",
       "      <td>0.224</td>\n",
       "      <td>0.214</td>\n",
       "      <td>0.261</td>\n",
       "    </tr>\n",
       "    <tr>\n",
       "      <th>1</th>\n",
       "      <td>21800997</td>\n",
       "      <td>1610612745</td>\n",
       "      <td>HOU</td>\n",
       "      <td>Houston</td>\n",
       "      <td>200782</td>\n",
       "      <td>P.J. Tucker</td>\n",
       "      <td>F</td>\n",
       "      <td>NaN</td>\n",
       "      <td>37:51</td>\n",
       "      <td>0.471</td>\n",
       "      <td>0.286</td>\n",
       "      <td>0.141</td>\n",
       "      <td>0.293</td>\n",
       "      <td>0.441</td>\n",
       "      <td>0.339</td>\n",
       "      <td>0.206</td>\n",
       "      <td>0.345</td>\n",
       "    </tr>\n",
       "    <tr>\n",
       "      <th>2</th>\n",
       "      <td>21800997</td>\n",
       "      <td>1610612745</td>\n",
       "      <td>HOU</td>\n",
       "      <td>Houston</td>\n",
       "      <td>203991</td>\n",
       "      <td>Clint Capela</td>\n",
       "      <td>C</td>\n",
       "      <td>NaN</td>\n",
       "      <td>35:39</td>\n",
       "      <td>0.409</td>\n",
       "      <td>0.242</td>\n",
       "      <td>0.155</td>\n",
       "      <td>0.302</td>\n",
       "      <td>0.464</td>\n",
       "      <td>0.321</td>\n",
       "      <td>0.197</td>\n",
       "      <td>0.280</td>\n",
       "    </tr>\n",
       "    <tr>\n",
       "      <th>3</th>\n",
       "      <td>21800997</td>\n",
       "      <td>1610612745</td>\n",
       "      <td>HOU</td>\n",
       "      <td>Houston</td>\n",
       "      <td>201935</td>\n",
       "      <td>James Harden</td>\n",
       "      <td>G</td>\n",
       "      <td>NaN</td>\n",
       "      <td>33:55</td>\n",
       "      <td>0.467</td>\n",
       "      <td>0.328</td>\n",
       "      <td>0.143</td>\n",
       "      <td>0.278</td>\n",
       "      <td>0.510</td>\n",
       "      <td>0.294</td>\n",
       "      <td>0.220</td>\n",
       "      <td>0.320</td>\n",
       "    </tr>\n",
       "    <tr>\n",
       "      <th>4</th>\n",
       "      <td>21800997</td>\n",
       "      <td>1610612745</td>\n",
       "      <td>HOU</td>\n",
       "      <td>Houston</td>\n",
       "      <td>101108</td>\n",
       "      <td>Chris Paul</td>\n",
       "      <td>G</td>\n",
       "      <td>NaN</td>\n",
       "      <td>32:50</td>\n",
       "      <td>0.452</td>\n",
       "      <td>0.242</td>\n",
       "      <td>0.148</td>\n",
       "      <td>0.282</td>\n",
       "      <td>0.490</td>\n",
       "      <td>0.353</td>\n",
       "      <td>0.194</td>\n",
       "      <td>0.217</td>\n",
       "    </tr>\n",
       "  </tbody>\n",
       "</table>\n",
       "</div>"
      ],
      "text/plain": [
       "    GAME_ID     TEAM_ID TEAM_ABBREVIATION TEAM_CITY  PLAYER_ID   PLAYER_NAME  \\\n",
       "0  21800997  1610612745               HOU   Houston     201569   Eric Gordon   \n",
       "1  21800997  1610612745               HOU   Houston     200782   P.J. Tucker   \n",
       "2  21800997  1610612745               HOU   Houston     203991  Clint Capela   \n",
       "3  21800997  1610612745               HOU   Houston     201935  James Harden   \n",
       "4  21800997  1610612745               HOU   Houston     101108    Chris Paul   \n",
       "\n",
       "  START_POSITION COMMENT    MIN  EFG_PCT  FTA_RATE  TM_TOV_PCT  OREB_PCT  \\\n",
       "0              F     NaN  31:48    0.432     0.220       0.099     0.286   \n",
       "1              F     NaN  37:51    0.471     0.286       0.141     0.293   \n",
       "2              C     NaN  35:39    0.409     0.242       0.155     0.302   \n",
       "3              G     NaN  33:55    0.467     0.328       0.143     0.278   \n",
       "4              G     NaN  32:50    0.452     0.242       0.148     0.282   \n",
       "\n",
       "   OPP_EFG_PCT  OPP_FTA_RATE  OPP_TOV_PCT  OPP_OREB_PCT  \n",
       "0        0.459         0.224        0.214         0.261  \n",
       "1        0.441         0.339        0.206         0.345  \n",
       "2        0.464         0.321        0.197         0.280  \n",
       "3        0.510         0.294        0.220         0.320  \n",
       "4        0.490         0.353        0.194         0.217  "
      ]
     },
     "execution_count": 5,
     "metadata": {},
     "output_type": "execute_result"
    }
   ],
   "source": [
    "boxscorefourfactor = pd.read_csv('../data_1/boxscorefourfactor.csv')\n",
    "boxscorefourfactor.head()"
   ]
  },
  {
   "cell_type": "markdown",
   "metadata": {},
   "source": [
    "### General Dataset Information"
   ]
  },
  {
   "cell_type": "code",
   "execution_count": null,
   "metadata": {},
   "outputs": [],
   "source": [
    "game_log_1819.shape"
   ]
  },
  {
   "cell_type": "code",
   "execution_count": null,
   "metadata": {},
   "outputs": [],
   "source": [
    "game_log_1819.info()"
   ]
  },
  {
   "cell_type": "code",
   "execution_count": null,
   "metadata": {},
   "outputs": [],
   "source": [
    "game_log_1819.describe()"
   ]
  },
  {
   "cell_type": "code",
   "execution_count": null,
   "metadata": {},
   "outputs": [],
   "source": [
    "leaguedashteamstats.shape"
   ]
  },
  {
   "cell_type": "code",
   "execution_count": null,
   "metadata": {},
   "outputs": [],
   "source": [
    "leaguedashteamstats.info()"
   ]
  },
  {
   "cell_type": "code",
   "execution_count": null,
   "metadata": {},
   "outputs": [],
   "source": [
    "leaguedashteamstats.describe()"
   ]
  },
  {
   "cell_type": "code",
   "execution_count": null,
   "metadata": {},
   "outputs": [],
   "source": [
    "boxscorefourfactor.shape()"
   ]
  },
  {
   "cell_type": "code",
   "execution_count": null,
   "metadata": {},
   "outputs": [],
   "source": [
    "boxscorefourfactor.info()"
   ]
  },
  {
   "cell_type": "code",
   "execution_count": null,
   "metadata": {},
   "outputs": [],
   "source": [
    "boxscorefourfactor.describe()"
   ]
  },
  {
   "cell_type": "markdown",
   "metadata": {},
   "source": [
    "### Dataset Preparation\n"
   ]
  },
  {
   "cell_type": "markdown",
   "metadata": {},
   "source": [
    "### Exploratory Data Analysis"
   ]
  },
  {
   "cell_type": "code",
   "execution_count": null,
   "metadata": {
    "scrolled": true
   },
   "outputs": [],
   "source": [
    "game_log_1819.head()"
   ]
  },
  {
   "cell_type": "code",
   "execution_count": null,
   "metadata": {},
   "outputs": [],
   "source": [
    "game_groupby_team = game_filter_wins.groupby(\n",
    "    ['TEAM_ABBREVIATION']).agg({'WL': 'count'})\n",
    "game_groupby_team"
   ]
  },
  {
   "cell_type": "code",
   "execution_count": 6,
   "metadata": {
    "collapsed": true
   },
   "outputs": [
    {
     "data": {
      "image/png": "[encoded data removed]",
      "text/plain": [
       "<Figure size 1152x864 with 1 Axes>"
      ]
     },
     "metadata": {},
     "output_type": "display_data"
    }
   ],
   "source": [
    "game_win_query = game_log_1819.query('WL == \"W\"')\n",
    "fig, ax = plt.subplots(figsize=(16,12))\n",
    "sns.countplot(x='TEAM_ABBREVIATION', data=game_win_query, ax=ax);"
   ]
  },
  {
   "cell_type": "code",
   "execution_count": 7,
   "metadata": {
    "collapsed": true
   },
   "outputs": [
    {
     "data": {
      "image/png": "[encoded data removed]",
      "text/plain": [
       "<Figure size 1152x864 with 1 Axes>"
      ]
     },
     "metadata": {},
     "output_type": "display_data"
    }
   ],
   "source": [
    "game_loss_query = game_log_1819.query('WL == \"L\"')\n",
    "fig, ax = plt.subplots(figsize=(16,12))\n",
    "sns.countplot(x='TEAM_ABBREVIATION', data=game_loss_query, ax=ax);"
   ]
  },
  {
   "cell_type": "code",
   "execution_count": 8,
   "metadata": {
    "collapsed": true
   },
   "outputs": [
    {
     "data": {
      "image/png": "[encoded data removed]",
      "text/plain": [
       "<Figure size 432x288 with 1 Axes>"
      ]
     },
     "metadata": {},
     "output_type": "display_data"
    }
   ],
   "source": [
    "fig, ax = plt.subplots()\n",
    "ax.hist(game_win_query['FG_PCT'], alpha=0.5, bins=35)\n",
    "ax.hist(game_loss_query['FG_PCT'], alpha=0.5, bins=35);"
   ]
  },
  {
   "cell_type": "code",
   "execution_count": 9,
   "metadata": {},
   "outputs": [
    {
     "data": {
      "image/png": "[encoded data removed]",
      "text/plain": [
       "<Figure size 432x288 with 1 Axes>"
      ]
     },
     "metadata": {},
     "output_type": "display_data"
    }
   ],
   "source": [
    "fig, ax = plt.subplots()\n",
    "ax.hist(game_win_query['FG3_PCT'], alpha=0.5, bins=35)\n",
    "ax.hist(game_loss_query['FG3_PCT'], alpha=0.5, bins=35);"
   ]
  },
  {
   "cell_type": "code",
   "execution_count": 10,
   "metadata": {},
   "outputs": [
    {
     "data": {
      "image/png": "[encoded data removed]",
      "text/plain": [
       "<Figure size 432x288 with 1 Axes>"
      ]
     },
     "metadata": {},
     "output_type": "display_data"
    }
   ],
   "source": [
    "fig, ax = plt.subplots()\n",
    "ax.hist(game_win_query['FT_PCT'], alpha=0.5, bins=35)\n",
    "ax.hist(game_loss_query['FT_PCT'], alpha=0.5, bins=35);"
   ]
  },
  {
   "cell_type": "code",
   "execution_count": 11,
   "metadata": {},
   "outputs": [
    {
     "data": {
      "image/png": "[encoded data removed]",
      "text/plain": [
       "<Figure size 432x288 with 1 Axes>"
      ]
     },
     "metadata": {},
     "output_type": "display_data"
    }
   ],
   "source": [
    "fig, ax = plt.subplots()\n",
    "ax.hist(game_win_query['REB'], alpha=0.5, bins=35)\n",
    "ax.hist(game_loss_query['REB'], alpha=0.5, bins=35);"
   ]
  },
  {
   "cell_type": "code",
   "execution_count": 12,
   "metadata": {},
   "outputs": [
    {
     "data": {
      "image/png": "[encoded data removed]",
      "text/plain": [
       "<Figure size 432x288 with 1 Axes>"
      ]
     },
     "metadata": {},
     "output_type": "display_data"
    }
   ],
   "source": [
    "fig, ax = plt.subplots()\n",
    "ax.hist(game_win_query['OREB'], alpha=0.5, bins=35)\n",
    "ax.hist(game_loss_query['OREB'], alpha=0.5, bins=35);"
   ]
  },
  {
   "cell_type": "code",
   "execution_count": 13,
   "metadata": {},
   "outputs": [
    {
     "data": {
      "image/png": "[encoded data removed]",
      "text/plain": [
       "<Figure size 432x288 with 1 Axes>"
      ]
     },
     "metadata": {},
     "output_type": "display_data"
    }
   ],
   "source": [
    "fig, ax = plt.subplots()\n",
    "ax.hist(game_win_query['DREB'], alpha=0.5, bins=35)\n",
    "ax.hist(game_loss_query['DREB'], alpha=0.5, bins=35);"
   ]
  },
  {
   "cell_type": "code",
   "execution_count": 14,
   "metadata": {},
   "outputs": [
    {
     "data": {
      "image/png": "[encoded data removed]",
      "text/plain": [
       "<Figure size 432x288 with 1 Axes>"
      ]
     },
     "metadata": {},
     "output_type": "display_data"
    }
   ],
   "source": [
    "fig, ax = plt.subplots()\n",
    "ax.hist(game_win_query['AST'], alpha=0.5, bins=35)\n",
    "ax.hist(game_loss_query['AST'], alpha=0.5, bins=35);"
   ]
  },
  {
   "cell_type": "code",
   "execution_count": 15,
   "metadata": {},
   "outputs": [
    {
     "data": {
      "image/png": "[encoded data removed]",
      "text/plain": [
       "<Figure size 432x288 with 1 Axes>"
      ]
     },
     "metadata": {},
     "output_type": "display_data"
    }
   ],
   "source": [
    "fig, ax = plt.subplots()\n",
    "ax.hist(game_win_query['STL'], alpha=0.5, bins=35)\n",
    "ax.hist(game_loss_query['STL'], alpha=0.5, bins=35);"
   ]
  },
  {
   "cell_type": "code",
   "execution_count": 16,
   "metadata": {},
   "outputs": [
    {
     "data": {
      "image/png": "[encoded data removed]",
      "text/plain": [
       "<Figure size 432x288 with 1 Axes>"
      ]
     },
     "metadata": {},
     "output_type": "display_data"
    }
   ],
   "source": [
    "fig, ax = plt.subplots()\n",
    "ax.hist(game_win_query['BLK'], alpha=0.5, bins=35)\n",
    "ax.hist(game_loss_query['BLK'], alpha=0.5, bins=35);"
   ]
  },
  {
   "cell_type": "code",
   "execution_count": null,
   "metadata": {},
   "outputs": [],
   "source": [
    "fig, ax = plt.subplots()\n",
    "ax.hist(game_win_query['TOV'], alpha=0.5, bins=35)\n",
    "ax.hist(game_loss_query['TOV'], alpha=0.5, bins=35);"
   ]
  },
  {
   "cell_type": "code",
   "execution_count": null,
   "metadata": {},
   "outputs": [],
   "source": [
    "fig, ax = plt.subplots()\n",
    "ax.hist(game_log_1819['FGA'], bins=50)\n",
    "plt.show()"
   ]
  },
  {
   "cell_type": "code",
   "execution_count": null,
   "metadata": {},
   "outputs": [],
   "source": [
    "fig, ax = plt.subplots()\n",
    "ax.hist(game_log_1819['FGM'], bins=50)\n",
    "plt.show()"
   ]
  },
  {
   "cell_type": "code",
   "execution_count": null,
   "metadata": {},
   "outputs": [],
   "source": [
    "fig, ax = plt.subplots()\n",
    "ax.hist(game_log_1819['FG_PCT'], bins=50)\n",
    "plt.show()"
   ]
  },
  {
   "cell_type": "code",
   "execution_count": null,
   "metadata": {},
   "outputs": [],
   "source": [
    "fig, ax = plt.subplots()\n",
    "ax.scatter(game_log_1819['FGA'], game_log_1819['FGM'])\n",
    "ax.set_xlabel('Field Goals Attempted')\n",
    "ax.set_ylabel('Field Goals Made')\n",
    "plt.show()"
   ]
  },
  {
   "cell_type": "code",
   "execution_count": null,
   "metadata": {},
   "outputs": [],
   "source": [
    "fig, ax = plt.subplots()\n",
    "ax.scatter(game_log_1819['FG3A'], game_log_1819['FG3M'])\n",
    "ax.set_xlabel('3-Point Field Goals Attempted')\n",
    "ax.set_ylabel('3-Point Field Goals Made')\n",
    "plt.show()"
   ]
  },
  {
   "cell_type": "code",
   "execution_count": null,
   "metadata": {},
   "outputs": [],
   "source": [
    "fig, ax = plt.subplots()\n",
    "ax.scatter(game_log_1819['OREB'], game_log_1819['DREB'])\n",
    "ax.set_xlabel('Offensive Rebounds')\n",
    "ax.set_ylabel('Defensive Rebounds')\n",
    "plt.show()"
   ]
  },
  {
   "cell_type": "code",
   "execution_count": null,
   "metadata": {},
   "outputs": [],
   "source": []
  },
  {
   "cell_type": "markdown",
   "metadata": {},
   "source": [
    "### Hypothesis Tests"
   ]
  },
  {
   "cell_type": "markdown",
   "metadata": {},
   "source": [
    "**Scientific question:** Is there a play between offensive and defensive play that is more effective in achieving a game win?\n",
    "\n",
    "**Null:** There is no difference between the impact of offensive or defensive play in achieving a game win.\n",
    "\n",
    "**Alternative:** There is a difference between the impact of offensive or defensive play in achieving a game win.\n",
    "\n",
    "**Test statistic:** 2,460 regular season games from the 20xx - xx NBA season\n",
    "(=82 games per team * 30 NBA teams)"
   ]
  },
  {
   "cell_type": "markdown",
   "metadata": {},
   "source": [
    "Dataset: using proxies, such as either offensive (ORtg) and defensive (DRtg) ratings or offense and defense four factors, for efficient offensive and defensive play respectively"
   ]
  },
  {
   "cell_type": "markdown",
   "metadata": {},
   "source": [
    "### Conclusion"
   ]
  }
 ],
 "metadata": {
  "kernelspec": {
   "display_name": "Python 3",
   "language": "python",
   "name": "python3"
  },
  "language_info": {
   "codemirror_mode": {
    "name": "ipython",
    "version": 3
   },
   "file_extension": ".py",
   "mimetype": "text/x-python",
   "name": "python",
   "nbconvert_exporter": "python",
   "pygments_lexer": "ipython3",
   "version": "3.7.9"
  }
 },
 "nbformat": 4,
 "nbformat_minor": 4
}
