{
 "cells": [
  {
   "cell_type": "markdown",
   "metadata": {},
   "source": [
    "## NBA Basketball - Offensive and Defensive Game Play"
   ]
  },
  {
   "cell_type": "code",
   "execution_count": 1,
   "metadata": {},
   "outputs": [],
   "source": [
    "from pymongo import MongoClient\n",
    "import pprint\n",
    "\n",
    "import pandas as pd\n",
    "import matplotlib.pyplot as plt\n",
    "plt.style.use('fivethirtyeight')\n",
    "import seaborn as sns\n",
    "\n",
    "# Requests sends and receives HTTP requests.\n",
    "import requests\n",
    "\n",
    "import json\n",
    "import time\n",
    "import copy"
   ]
  },
  {
   "cell_type": "code",
   "execution_count": null,
   "metadata": {},
   "outputs": [],
   "source": [
    "pd.set_option('display.max_columns', None)"
   ]
  },
  {
   "cell_type": "code",
   "execution_count": 2,
   "metadata": {},
   "outputs": [],
   "source": [
    "from nba_api.stats.static import teams\n",
    "from nba_api.stats.static import players\n",
    "from nba_api.stats.endpoints import leaguegamelog\n",
    "from nba_api.stats.endpoints import leaguedashteamstats\n",
    "from nba_api.stats.endpoints import boxscorefourfactorsv2\n",
    "from nba_api.stats.endpoints import boxscoreadvancedv2"
   ]
  },
  {
   "cell_type": "code",
   "execution_count": null,
   "metadata": {},
   "outputs": [],
   "source": [
    "teams_df = pd.DataFrame(teams.get_teams())\n",
    "teams_df.head()"
   ]
  },
  {
   "cell_type": "code",
   "execution_count": null,
   "metadata": {},
   "outputs": [],
   "source": [
    "player_df = pd.DataFrame(players.get_players())\n",
    "player_df.head()"
   ]
  },
  {
   "cell_type": "code",
   "execution_count": null,
   "metadata": {},
   "outputs": [],
   "source": [
    "#game_log_1819 = leaguegamelog.LeagueGameLog(counter = 0, direction = \"DESC\",\n",
    "#                 league_id = \"00\", player_or_team_abbreviation = \"T\", season = \"2018-19\",\n",
    "#                 season_type_all_star = \"Regular Season\", sorter = \"DATE\").get_data_frames()"
   ]
  },
  {
   "cell_type": "code",
   "execution_count": null,
   "metadata": {},
   "outputs": [],
   "source": [
    "#game_log_1819[0].to_csv(r'../data_1/game_log_1819.csv', index=False)"
   ]
  },
  {
   "cell_type": "code",
   "execution_count": null,
   "metadata": {
    "scrolled": true
   },
   "outputs": [],
   "source": [
    "types_dict = {'GAME_ID': str}\n",
    "game_log_1819 = pd.read_csv('../data_1/game_log_1819.csv', dtype=types_dict)\n",
    "game_log_1819.head()"
   ]
  },
  {
   "cell_type": "code",
   "execution_count": null,
   "metadata": {},
   "outputs": [],
   "source": [
    "game_id_lst = game_log_1819['GAME_ID'].tolist() #list created to iterate over advanced game stats below"
   ]
  },
  {
   "cell_type": "code",
   "execution_count": null,
   "metadata": {},
   "outputs": [],
   "source": [
    "#leaguedashteamstats = leaguedashteamstats.LeagueDashTeamStats(season = \"2018-19\", season_type_all_star='Regular Season').get_data_frames()"
   ]
  },
  {
   "cell_type": "code",
   "execution_count": null,
   "metadata": {},
   "outputs": [],
   "source": [
    "#leaguedashteamstats[0].to_csv(r'../data_1/leaguedashteamstats.csv', index=False)"
   ]
  },
  {
   "cell_type": "code",
   "execution_count": null,
   "metadata": {},
   "outputs": [],
   "source": [
    "leaguedashteamstats = pd.read_csv('../data_1/leaguedashteamstats.csv')\n",
    "leaguedashteamstats.head()"
   ]
  },
  {
   "cell_type": "code",
   "execution_count": null,
   "metadata": {},
   "outputs": [],
   "source": [
    "#boxscorefourfactor = boxscorefourfactorsv2.BoxScoreFourFactorsV2(game_id='0021800997').get_data_frames()"
   ]
  },
  {
   "cell_type": "code",
   "execution_count": null,
   "metadata": {},
   "outputs": [],
   "source": [
    "#boxscorefourfactor[0].to_csv(r'../data_1/boxscorefourfactor.csv', index=False)"
   ]
  },
  {
   "cell_type": "code",
   "execution_count": null,
   "metadata": {},
   "outputs": [],
   "source": [
    "boxscorefourfactor = pd.read_csv('../data_1/boxscorefourfactor.csv', dtype=types_dict)\n",
    "boxscorefourfactor.head()"
   ]
  },
  {
   "cell_type": "markdown",
   "metadata": {},
   "source": [
    "boxscoreadvancedv2 = pd.DataFrame()\n",
    "for game_id in game_id_lst:\n",
    "    boxscoreadvancedv2.append(boxscoreadvancedv2.BoxScoreAdvancedV2(game_id=game_id))\n",
    "#0021800997"
   ]
  },
  {
   "cell_type": "code",
   "execution_count": 3,
   "metadata": {},
   "outputs": [],
   "source": [
    "boxscoreadvancedv2 = boxscoreadvancedv2.BoxScoreAdvancedV2(game_id='0021800997')"
   ]
  },
  {
   "cell_type": "code",
   "execution_count": 4,
   "metadata": {},
   "outputs": [],
   "source": [
    "boxscoreadvancedv2 = boxscoreadvancedv2.team_stats.get_data_frame()"
   ]
  },
  {
   "cell_type": "code",
   "execution_count": 5,
   "metadata": {},
   "outputs": [],
   "source": [
    "boxscoreadvancedv2.to_csv(r'../data_1/boxscoreadvancedv2.csv', index=False)"
   ]
  },
  {
   "cell_type": "code",
   "execution_count": 6,
   "metadata": {},
   "outputs": [
    {
     "data": {
      "text/html": [
       "<div>\n",
       "<style scoped>\n",
       "    .dataframe tbody tr th:only-of-type {\n",
       "        vertical-align: middle;\n",
       "    }\n",
       "\n",
       "    .dataframe tbody tr th {\n",
       "        vertical-align: top;\n",
       "    }\n",
       "\n",
       "    .dataframe thead th {\n",
       "        text-align: right;\n",
       "    }\n",
       "</style>\n",
       "<table border=\"1\" class=\"dataframe\">\n",
       "  <thead>\n",
       "    <tr style=\"text-align: right;\">\n",
       "      <th></th>\n",
       "      <th>GAME_ID</th>\n",
       "      <th>TEAM_ID</th>\n",
       "      <th>TEAM_NAME</th>\n",
       "      <th>TEAM_ABBREVIATION</th>\n",
       "      <th>TEAM_CITY</th>\n",
       "      <th>MIN</th>\n",
       "      <th>E_OFF_RATING</th>\n",
       "      <th>OFF_RATING</th>\n",
       "      <th>E_DEF_RATING</th>\n",
       "      <th>DEF_RATING</th>\n",
       "      <th>...</th>\n",
       "      <th>TM_TOV_PCT</th>\n",
       "      <th>EFG_PCT</th>\n",
       "      <th>TS_PCT</th>\n",
       "      <th>USG_PCT</th>\n",
       "      <th>E_USG_PCT</th>\n",
       "      <th>E_PACE</th>\n",
       "      <th>PACE</th>\n",
       "      <th>PACE_PER40</th>\n",
       "      <th>POSS</th>\n",
       "      <th>PIE</th>\n",
       "    </tr>\n",
       "  </thead>\n",
       "  <tbody>\n",
       "    <tr>\n",
       "      <th>0</th>\n",
       "      <td>21800997</td>\n",
       "      <td>1610612745</td>\n",
       "      <td>Rockets</td>\n",
       "      <td>HOU</td>\n",
       "      <td>Houston</td>\n",
       "      <td>240:00</td>\n",
       "      <td>96.2</td>\n",
       "      <td>98.9</td>\n",
       "      <td>99.1</td>\n",
       "      <td>97.9</td>\n",
       "      <td>...</td>\n",
       "      <td>13.7</td>\n",
       "      <td>0.455</td>\n",
       "      <td>0.481</td>\n",
       "      <td>1.0</td>\n",
       "      <td>0.195</td>\n",
       "      <td>95.78</td>\n",
       "      <td>95.0</td>\n",
       "      <td>79.17</td>\n",
       "      <td>95</td>\n",
       "      <td>0.397</td>\n",
       "    </tr>\n",
       "    <tr>\n",
       "      <th>1</th>\n",
       "      <td>21800997</td>\n",
       "      <td>1610612742</td>\n",
       "      <td>Mavericks</td>\n",
       "      <td>DAL</td>\n",
       "      <td>Dallas</td>\n",
       "      <td>240:00</td>\n",
       "      <td>99.1</td>\n",
       "      <td>97.9</td>\n",
       "      <td>96.2</td>\n",
       "      <td>98.9</td>\n",
       "      <td>...</td>\n",
       "      <td>17.9</td>\n",
       "      <td>0.473</td>\n",
       "      <td>0.535</td>\n",
       "      <td>1.0</td>\n",
       "      <td>0.198</td>\n",
       "      <td>95.78</td>\n",
       "      <td>95.0</td>\n",
       "      <td>79.17</td>\n",
       "      <td>95</td>\n",
       "      <td>0.603</td>\n",
       "    </tr>\n",
       "  </tbody>\n",
       "</table>\n",
       "<p>2 rows × 29 columns</p>\n",
       "</div>"
      ],
      "text/plain": [
       "    GAME_ID     TEAM_ID  TEAM_NAME TEAM_ABBREVIATION TEAM_CITY     MIN  \\\n",
       "0  21800997  1610612745    Rockets               HOU   Houston  240:00   \n",
       "1  21800997  1610612742  Mavericks               DAL    Dallas  240:00   \n",
       "\n",
       "   E_OFF_RATING  OFF_RATING  E_DEF_RATING  DEF_RATING  ...  TM_TOV_PCT  \\\n",
       "0          96.2        98.9          99.1        97.9  ...        13.7   \n",
       "1          99.1        97.9          96.2        98.9  ...        17.9   \n",
       "\n",
       "   EFG_PCT  TS_PCT  USG_PCT  E_USG_PCT  E_PACE  PACE  PACE_PER40  POSS    PIE  \n",
       "0    0.455   0.481      1.0      0.195   95.78  95.0       79.17    95  0.397  \n",
       "1    0.473   0.535      1.0      0.198   95.78  95.0       79.17    95  0.603  \n",
       "\n",
       "[2 rows x 29 columns]"
      ]
     },
     "execution_count": 6,
     "metadata": {},
     "output_type": "execute_result"
    }
   ],
   "source": [
    "boxscoreadvancedv2 = pd.read_csv('../data_1/boxscoreadvancedv2.csv')\n",
    "boxscoreadvancedv2.head()"
   ]
  },
  {
   "cell_type": "markdown",
   "metadata": {},
   "source": [
    "### General Dataset Information"
   ]
  },
  {
   "cell_type": "code",
   "execution_count": null,
   "metadata": {},
   "outputs": [],
   "source": [
    "game_log_1819.shape"
   ]
  },
  {
   "cell_type": "code",
   "execution_count": null,
   "metadata": {},
   "outputs": [],
   "source": [
    "game_log_1819.info()"
   ]
  },
  {
   "cell_type": "code",
   "execution_count": null,
   "metadata": {},
   "outputs": [],
   "source": [
    "game_log_1819.describe()"
   ]
  },
  {
   "cell_type": "code",
   "execution_count": null,
   "metadata": {},
   "outputs": [],
   "source": [
    "leaguedashteamstats.shape"
   ]
  },
  {
   "cell_type": "code",
   "execution_count": null,
   "metadata": {},
   "outputs": [],
   "source": [
    "leaguedashteamstats.info()"
   ]
  },
  {
   "cell_type": "code",
   "execution_count": null,
   "metadata": {},
   "outputs": [],
   "source": [
    "leaguedashteamstats.describe()"
   ]
  },
  {
   "cell_type": "code",
   "execution_count": null,
   "metadata": {},
   "outputs": [],
   "source": [
    "boxscorefourfactor.shape()"
   ]
  },
  {
   "cell_type": "code",
   "execution_count": null,
   "metadata": {},
   "outputs": [],
   "source": [
    "boxscorefourfactor.info()"
   ]
  },
  {
   "cell_type": "code",
   "execution_count": null,
   "metadata": {},
   "outputs": [],
   "source": [
    "boxscorefourfactor.describe()"
   ]
  },
  {
   "cell_type": "markdown",
   "metadata": {},
   "source": [
    "### Dataset Preparation\n"
   ]
  },
  {
   "cell_type": "markdown",
   "metadata": {},
   "source": [
    "### Exploratory Data Analysis"
   ]
  },
  {
   "cell_type": "code",
   "execution_count": null,
   "metadata": {
    "scrolled": true
   },
   "outputs": [],
   "source": [
    "game_log_1819.head()"
   ]
  },
  {
   "cell_type": "code",
   "execution_count": null,
   "metadata": {},
   "outputs": [],
   "source": [
    "#game_groupby_team = game_filter_wins.groupby(\n",
    "#    ['TEAM_ABBREVIATION']).agg({'WL': 'count'})\n",
    "#game_groupby_team"
   ]
  },
  {
   "cell_type": "code",
   "execution_count": null,
   "metadata": {},
   "outputs": [],
   "source": [
    "game_win_query = game_log_1819.query('WL == \"W\"')\n",
    "fig, ax = plt.subplots(figsize=(16,12))\n",
    "sns.countplot(x='TEAM_ABBREVIATION', data=game_win_query, ax=ax);"
   ]
  },
  {
   "cell_type": "code",
   "execution_count": null,
   "metadata": {},
   "outputs": [],
   "source": [
    "game_loss_query = game_log_1819.query('WL == \"L\"')\n",
    "fig, ax = plt.subplots(figsize=(16,12))\n",
    "sns.countplot(x='TEAM_ABBREVIATION', data=game_loss_query, ax=ax);"
   ]
  },
  {
   "cell_type": "code",
   "execution_count": null,
   "metadata": {},
   "outputs": [],
   "source": [
    "fig, ax = plt.subplots()\n",
    "ax.hist(game_win_query['FG_PCT'], alpha=0.5, bins=35)\n",
    "ax.hist(game_loss_query['FG_PCT'], alpha=0.5, bins=35);"
   ]
  },
  {
   "cell_type": "code",
   "execution_count": null,
   "metadata": {},
   "outputs": [],
   "source": [
    "fig, ax = plt.subplots()\n",
    "ax.hist(game_win_query['FG3_PCT'], alpha=0.5, bins=35)\n",
    "ax.hist(game_loss_query['FG3_PCT'], alpha=0.5, bins=35);"
   ]
  },
  {
   "cell_type": "code",
   "execution_count": null,
   "metadata": {},
   "outputs": [],
   "source": [
    "fig, ax = plt.subplots()\n",
    "ax.hist(game_win_query['FT_PCT'], alpha=0.5, bins=35)\n",
    "ax.hist(game_loss_query['FT_PCT'], alpha=0.5, bins=35);"
   ]
  },
  {
   "cell_type": "code",
   "execution_count": null,
   "metadata": {},
   "outputs": [],
   "source": [
    "fig, ax = plt.subplots()\n",
    "ax.hist(game_win_query['REB'], alpha=0.5, bins=35)\n",
    "ax.hist(game_loss_query['REB'], alpha=0.5, bins=35);"
   ]
  },
  {
   "cell_type": "code",
   "execution_count": null,
   "metadata": {},
   "outputs": [],
   "source": [
    "fig, ax = plt.subplots()\n",
    "ax.hist(game_win_query['OREB'], alpha=0.5, bins=35)\n",
    "ax.hist(game_loss_query['OREB'], alpha=0.5, bins=35);"
   ]
  },
  {
   "cell_type": "code",
   "execution_count": null,
   "metadata": {},
   "outputs": [],
   "source": [
    "fig, ax = plt.subplots()\n",
    "ax.hist(game_win_query['DREB'], alpha=0.5, bins=35)\n",
    "ax.hist(game_loss_query['DREB'], alpha=0.5, bins=35);"
   ]
  },
  {
   "cell_type": "code",
   "execution_count": null,
   "metadata": {},
   "outputs": [],
   "source": [
    "fig, ax = plt.subplots()\n",
    "ax.hist(game_win_query['AST'], alpha=0.5, bins=35)\n",
    "ax.hist(game_loss_query['AST'], alpha=0.5, bins=35);"
   ]
  },
  {
   "cell_type": "code",
   "execution_count": null,
   "metadata": {},
   "outputs": [],
   "source": [
    "fig, ax = plt.subplots()\n",
    "ax.hist(game_win_query['STL'], alpha=0.5, bins=35)\n",
    "ax.hist(game_loss_query['STL'], alpha=0.5, bins=35);"
   ]
  },
  {
   "cell_type": "code",
   "execution_count": null,
   "metadata": {},
   "outputs": [],
   "source": [
    "fig, ax = plt.subplots()\n",
    "ax.hist(game_win_query['BLK'], alpha=0.5, bins=35)\n",
    "ax.hist(game_loss_query['BLK'], alpha=0.5, bins=35);"
   ]
  },
  {
   "cell_type": "code",
   "execution_count": null,
   "metadata": {},
   "outputs": [],
   "source": [
    "fig, ax = plt.subplots()\n",
    "ax.hist(game_win_query['TOV'], alpha=0.5, bins=35)\n",
    "ax.hist(game_loss_query['TOV'], alpha=0.5, bins=35);"
   ]
  },
  {
   "cell_type": "code",
   "execution_count": null,
   "metadata": {},
   "outputs": [],
   "source": [
    "fig, ax = plt.subplots()\n",
    "ax.hist(game_log_1819['FGA'], bins=50)\n",
    "plt.show()"
   ]
  },
  {
   "cell_type": "code",
   "execution_count": null,
   "metadata": {},
   "outputs": [],
   "source": [
    "fig, ax = plt.subplots()\n",
    "ax.hist(game_log_1819['FGM'], bins=50)\n",
    "plt.show()"
   ]
  },
  {
   "cell_type": "code",
   "execution_count": null,
   "metadata": {},
   "outputs": [],
   "source": [
    "fig, ax = plt.subplots()\n",
    "ax.hist(game_log_1819['FG_PCT'], bins=50)\n",
    "plt.show()"
   ]
  },
  {
   "cell_type": "code",
   "execution_count": null,
   "metadata": {},
   "outputs": [],
   "source": [
    "fig, ax = plt.subplots()\n",
    "ax.scatter(game_log_1819['FGA'], game_log_1819['FGM'])\n",
    "ax.set_xlabel('Field Goals Attempted')\n",
    "ax.set_ylabel('Field Goals Made')\n",
    "plt.show()"
   ]
  },
  {
   "cell_type": "code",
   "execution_count": null,
   "metadata": {},
   "outputs": [],
   "source": [
    "fig, ax = plt.subplots()\n",
    "ax.scatter(game_log_1819['FG3A'], game_log_1819['FG3M'])\n",
    "ax.set_xlabel('3-Point Field Goals Attempted')\n",
    "ax.set_ylabel('3-Point Field Goals Made')\n",
    "plt.show()"
   ]
  },
  {
   "cell_type": "code",
   "execution_count": null,
   "metadata": {},
   "outputs": [],
   "source": [
    "fig, ax = plt.subplots()\n",
    "ax.scatter(game_log_1819['OREB'], game_log_1819['DREB'])\n",
    "ax.set_xlabel('Offensive Rebounds')\n",
    "ax.set_ylabel('Defensive Rebounds')\n",
    "plt.show()"
   ]
  },
  {
   "cell_type": "code",
   "execution_count": null,
   "metadata": {},
   "outputs": [],
   "source": []
  },
  {
   "cell_type": "markdown",
   "metadata": {},
   "source": [
    "### Hypothesis Tests"
   ]
  },
  {
   "cell_type": "markdown",
   "metadata": {},
   "source": [
    "**Scientific question:** Is there a play between offensive and defensive play that is more effective in achieving a game win?\n",
    "\n",
    "**Null:** There is no difference between the impact of offensive or defensive play in achieving a game win.\n",
    "\n",
    "**Alternative:** There is a difference between the impact of offensive or defensive play in achieving a game win.\n",
    "\n",
    "**Test statistic:** 2,460 regular season games from the 20xx - xx NBA season\n",
    "(=82 games per team * 30 NBA teams)"
   ]
  },
  {
   "cell_type": "markdown",
   "metadata": {},
   "source": [
    "Dataset: using proxies, such as either offensive (ORtg) and defensive (DRtg) ratings or offense and defense four factors, for efficient offensive and defensive play respectively"
   ]
  },
  {
   "cell_type": "markdown",
   "metadata": {},
   "source": [
    "### Conclusion"
   ]
  }
 ],
 "metadata": {
  "kernelspec": {
   "display_name": "Python 3",
   "language": "python",
   "name": "python3"
  },
  "language_info": {
   "codemirror_mode": {
    "name": "ipython",
    "version": 3
   },
   "file_extension": ".py",
   "mimetype": "text/x-python",
   "name": "python",
   "nbconvert_exporter": "python",
   "pygments_lexer": "ipython3",
   "version": "3.7.9"
  }
 },
 "nbformat": 4,
 "nbformat_minor": 4
}
